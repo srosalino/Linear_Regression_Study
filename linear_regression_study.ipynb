{
 "cells": [
  {
   "cell_type": "markdown",
   "id": "27c57a6f-4e58-464b-a8b7-7279c872da7a",
   "metadata": {},
   "source": [
    "<h1><center>Linear Regression Study</center></h1>\n",
    "<h2><center>Sebastião Rosalino</center></h2>"
   ]
  },
  {
   "cell_type": "markdown",
   "id": "de9a057c-3935-4bd4-8679-c8da2fb189fe",
   "metadata": {},
   "source": [
    "# Index\n",
    "\n",
    "1. [Data Preprocessing](#Data-Preprocessing)\n",
    "2. [Linear Regression Coefficients Calculation](#Linear-Regression-Coefficients-Calculation)\n",
    "3. [Ridge Regression](#Ridge-Regression)\n",
    "4. [LASSO Regression](#LASSO-Regression)\n",
    "5. [Model Comparisons](#Model-Comparisons)"
   ]
  },
  {
   "cell_type": "markdown",
   "id": "4f428f6d-a301-49d5-be06-e9b45e1900cf",
   "metadata": {},
   "source": [
    "# 1. **Data Preprocessing**\n",
    "<a id='Data-Preprocessing'></a>"
   ]
  },
  {
   "cell_type": "code",
   "execution_count": 1,
   "id": "c974ea0e-c2be-4d4f-8b5a-bb510a49796e",
   "metadata": {
    "tags": []
   },
   "outputs": [],
   "source": [
    "# Importing the necessary libraries\n",
    "import pandas as pd\n",
    "import numpy as np\n",
    "from sklearn.model_selection import train_test_split\n",
    "from sklearn.metrics import mean_squared_error\n",
    "import matplotlib.pyplot as plt\n",
    "import seaborn as sns"
   ]
  },
  {
   "cell_type": "code",
   "execution_count": 2,
   "id": "db38b0a0-1561-4d02-97f0-80987efd75c2",
   "metadata": {
    "tags": []
   },
   "outputs": [],
   "source": [
    "# Read the dataset\n",
    "data = pd.read_csv('data.csv')"
   ]
  },
  {
   "cell_type": "code",
   "execution_count": 3,
   "id": "f508659c-0e11-49e4-a826-3e9ec0255624",
   "metadata": {
    "tags": []
   },
   "outputs": [
    {
     "data": {
      "text/html": [
       "<div>\n",
       "<style scoped>\n",
       "    .dataframe tbody tr th:only-of-type {\n",
       "        vertical-align: middle;\n",
       "    }\n",
       "\n",
       "    .dataframe tbody tr th {\n",
       "        vertical-align: top;\n",
       "    }\n",
       "\n",
       "    .dataframe thead th {\n",
       "        text-align: right;\n",
       "    }\n",
       "</style>\n",
       "<table border=\"1\" class=\"dataframe\">\n",
       "  <thead>\n",
       "    <tr style=\"text-align: right;\">\n",
       "      <th></th>\n",
       "      <th>x_1</th>\n",
       "      <th>x_2</th>\n",
       "      <th>x_3</th>\n",
       "      <th>x_3.1</th>\n",
       "      <th>y</th>\n",
       "    </tr>\n",
       "  </thead>\n",
       "  <tbody>\n",
       "    <tr>\n",
       "      <th>0</th>\n",
       "      <td>-1.659560</td>\n",
       "      <td>4.406490</td>\n",
       "      <td>6.066050</td>\n",
       "      <td>-3.953349</td>\n",
       "      <td>14.986176</td>\n",
       "    </tr>\n",
       "    <tr>\n",
       "      <th>1</th>\n",
       "      <td>-7.064882</td>\n",
       "      <td>-8.153228</td>\n",
       "      <td>-1.088346</td>\n",
       "      <td>-3.088785</td>\n",
       "      <td>-34.199587</td>\n",
       "    </tr>\n",
       "    <tr>\n",
       "      <th>2</th>\n",
       "      <td>-2.064651</td>\n",
       "      <td>0.776335</td>\n",
       "      <td>2.840985</td>\n",
       "      <td>3.704390</td>\n",
       "      <td>3.197767</td>\n",
       "    </tr>\n",
       "  </tbody>\n",
       "</table>\n",
       "</div>"
      ],
      "text/plain": [
       "        x_1       x_2       x_3     x_3.1          y\n",
       "0 -1.659560  4.406490  6.066050 -3.953349  14.986176\n",
       "1 -7.064882 -8.153228 -1.088346 -3.088785 -34.199587\n",
       "2 -2.064651  0.776335  2.840985  3.704390   3.197767"
      ]
     },
     "execution_count": 3,
     "metadata": {},
     "output_type": "execute_result"
    }
   ],
   "source": [
    "# Check its first 3 rows\n",
    "data.head(3)"
   ]
  },
  {
   "cell_type": "code",
   "execution_count": 4,
   "id": "fffb70cf-8b10-4570-90a8-4fdc1e227919",
   "metadata": {
    "tags": []
   },
   "outputs": [
    {
     "name": "stdout",
     "output_type": "stream",
     "text": [
      "<class 'pandas.core.frame.DataFrame'>\n",
      "RangeIndex: 200 entries, 0 to 199\n",
      "Data columns (total 5 columns):\n",
      " #   Column  Non-Null Count  Dtype  \n",
      "---  ------  --------------  -----  \n",
      " 0   x_1     200 non-null    float64\n",
      " 1   x_2     200 non-null    float64\n",
      " 2   x_3     200 non-null    float64\n",
      " 3   x_3.1   200 non-null    float64\n",
      " 4   y       200 non-null    float64\n",
      "dtypes: float64(5)\n",
      "memory usage: 7.9 KB\n"
     ]
    }
   ],
   "source": [
    "# Check its structure\n",
    "data.info()"
   ]
  },
  {
   "cell_type": "code",
   "execution_count": 5,
   "id": "ee1cf8d7-d8d7-41f7-8b62-dff307d7a5da",
   "metadata": {
    "tags": []
   },
   "outputs": [
    {
     "data": {
      "text/html": [
       "<div>\n",
       "<style scoped>\n",
       "    .dataframe tbody tr th:only-of-type {\n",
       "        vertical-align: middle;\n",
       "    }\n",
       "\n",
       "    .dataframe tbody tr th {\n",
       "        vertical-align: top;\n",
       "    }\n",
       "\n",
       "    .dataframe thead th {\n",
       "        text-align: right;\n",
       "    }\n",
       "</style>\n",
       "<table border=\"1\" class=\"dataframe\">\n",
       "  <thead>\n",
       "    <tr style=\"text-align: right;\">\n",
       "      <th></th>\n",
       "      <th>x_1</th>\n",
       "      <th>x_2</th>\n",
       "      <th>x_3</th>\n",
       "      <th>x_4</th>\n",
       "      <th>y</th>\n",
       "    </tr>\n",
       "  </thead>\n",
       "  <tbody>\n",
       "    <tr>\n",
       "      <th>0</th>\n",
       "      <td>-1.659560</td>\n",
       "      <td>4.406490</td>\n",
       "      <td>6.066050</td>\n",
       "      <td>-3.953349</td>\n",
       "      <td>14.986176</td>\n",
       "    </tr>\n",
       "    <tr>\n",
       "      <th>1</th>\n",
       "      <td>-7.064882</td>\n",
       "      <td>-8.153228</td>\n",
       "      <td>-1.088346</td>\n",
       "      <td>-3.088785</td>\n",
       "      <td>-34.199587</td>\n",
       "    </tr>\n",
       "    <tr>\n",
       "      <th>2</th>\n",
       "      <td>-2.064651</td>\n",
       "      <td>0.776335</td>\n",
       "      <td>2.840985</td>\n",
       "      <td>3.704390</td>\n",
       "      <td>3.197767</td>\n",
       "    </tr>\n",
       "  </tbody>\n",
       "</table>\n",
       "</div>"
      ],
      "text/plain": [
       "        x_1       x_2       x_3       x_4          y\n",
       "0 -1.659560  4.406490  6.066050 -3.953349  14.986176\n",
       "1 -7.064882 -8.153228 -1.088346 -3.088785 -34.199587\n",
       "2 -2.064651  0.776335  2.840985  3.704390   3.197767"
      ]
     },
     "execution_count": 5,
     "metadata": {},
     "output_type": "execute_result"
    }
   ],
   "source": [
    "# Correct the name of the last regressor to 'x_4'\n",
    "data.rename(columns={'x_3.1': 'x_4'}, inplace=True)\n",
    "\n",
    "# Confirm the changes\n",
    "data.head(3)"
   ]
  },
  {
   "cell_type": "code",
   "execution_count": 6,
   "id": "6251cb73-3f8d-47d4-a268-0b2bfb8a0d09",
   "metadata": {},
   "outputs": [],
   "source": [
    "X = data.drop('y', axis=1)  # Features (independent variables)\n",
    "y = data['y']               # Target (dependent variable)\n",
    "\n",
    "# Split the data into training and test sets\n",
    "# test_size determines the proportion of the dataset to include in the test split (0.2 for 20%)\n",
    "# random_state is the seed used by the random number generator for reproducibility\n",
    "X_train, X_test, y_train, y_test = train_test_split(X, y, test_size=0.2, random_state=42)"
   ]
  },
  {
   "cell_type": "markdown",
   "id": "afbb7d50-28ec-4e4a-a14c-05e010f619a5",
   "metadata": {},
   "source": [
    "# 2. **Linear Regression Coefficients Calculation**\n",
    "<a id='Linear-Regression-Coefficients-Calculation'></a>\n",
    "\n",
    "In linear regression, the goal is to find the best-fitting line through the data points, by minimizing the sum of the squared residuals. This line is represented by the equation:\n",
    "\n",
    "$$ y = \\beta_0 + \\beta_1 x_1 + \\beta_2 x_2 + \\ldots + \\beta_n x_n + \\epsilon $$\n",
    "\n",
    "Where:\n",
    "- $y$ is the dependent variable (target).\n",
    "- $\\beta_0$ is the bias term (also known as the y-intercept).\n",
    "- $\\beta_1, \\beta_2, \\ldots, \\beta_n$ are the coefficients (weights) associated with the independent variables $x_1, x_2, \\ldots, x_n$.\n",
    "- $\\epsilon$ is the error term.\n",
    "\n",
    "To incorporate the bias term $\\beta_0$ in the matrix formulation, one should augment the data matrix $X$ with a column of ones (so that every point's fitting is influced by the bias term fully). This augmented matrix is denoted as $X_{\\text{with bias}}$. The equation then becomes:\n",
    "\n",
    "$$ y = X_{\\text{with bias}} \\cdot \\beta + \\epsilon $$\n",
    "\n",
    "Where $\\beta$ now is the vector of all coefficients, including the bias term.\n",
    "\n",
    "The optimal coefficients vector $\\beta$ can be calculated using the normal equation, which minimizes the sum of the squares of the errors. The normal equation is:\n",
    "\n",
    "$$ \\beta = (X_{\\text{with bias}}^T X_{\\text{with bias}})^{-1} X_{\\text{with bias}}^T y $$\n",
    "\n",
    "Breaking down this equation:\n",
    "\n",
    "- $X_{\\text{with bias}}^T$ is the transpose of the augmented matrix $X_{\\text{with bias}}$.\n",
    "- $(X_{\\text{with bias}}^T X_{\\text{with bias}})^{-1}$ is the inverse of the product of $X_{\\text{with bias}}^T$ and $X_{\\text{with bias}}$.\n",
    "- The product of this inverse with $X_{\\text{with bias}}^T y$ gives the vector of coefficients $\\beta$, which includes both the weights and the bias term.\n",
    "\n",
    "Thus, $\\beta$ obtained from this formula provides the best linear fit to the data by minimizing the sum of squared residuals."
   ]
  },
  {
   "cell_type": "code",
   "execution_count": 7,
   "id": "c64f4125-f245-4847-996e-e04f10b95307",
   "metadata": {
    "tags": []
   },
   "outputs": [],
   "source": [
    "def linear_regression(X, y):\n",
    "    \n",
    "    # Add a column of ones for the bias term\n",
    "    X_with_bias = np.c_[np.ones(X.shape[0]), X]\n",
    "\n",
    "    # Calculate coefficients using the formula\n",
    "    coefficients = np.linalg.inv(X_with_bias.T @ X_with_bias) @ X_with_bias.T @ y\n",
    "\n",
    "    # Extract weights and bias\n",
    "    bias = coefficients[0]\n",
    "    weights = coefficients[1:]\n",
    "\n",
    "    return weights, bias"
   ]
  },
  {
   "cell_type": "code",
   "execution_count": 8,
   "id": "6b717862-cce0-4e86-9602-4a7515aa382b",
   "metadata": {
    "tags": []
   },
   "outputs": [
    {
     "name": "stdout",
     "output_type": "stream",
     "text": [
      "The bias term is 3.5523549116432522\n",
      "\n",
      "\n",
      "The coefficient for x_1 is 4.833234866471161\n",
      "\n",
      "\n",
      "The coefficient for x_2 is 0.6514480706788921\n",
      "\n",
      "\n",
      "The coefficient for x_3 is 1.7671311236160894\n",
      "\n",
      "\n",
      "The coefficient for x_4 is 0.006878888098790604\n"
     ]
    }
   ],
   "source": [
    "# Visualize the Linear Regression functional form\n",
    "print(f'The bias term is {linear_regression(X_train, y_train)[1]}')\n",
    "print('\\n')\n",
    "\n",
    "print(f'The coefficient for x_1 is {linear_regression(X_train, y_train)[0][0]}')\n",
    "print('\\n')\n",
    "\n",
    "print(f'The coefficient for x_2 is {linear_regression(X_train, y_train)[0][1]}')\n",
    "print('\\n')\n",
    "\n",
    "print(f'The coefficient for x_3 is {linear_regression(X_train, y_train)[0][2]}')\n",
    "print('\\n')\n",
    "\n",
    "print(f'The coefficient for x_4 is {linear_regression(X_train, y_train)[0][3]}')"
   ]
  },
  {
   "cell_type": "code",
   "execution_count": 9,
   "id": "83027882-e8a3-4e04-8dfe-79abd8593cc0",
   "metadata": {},
   "outputs": [
    {
     "name": "stdout",
     "output_type": "stream",
     "text": [
      "RMSE: 7.39595463224747\n"
     ]
    }
   ],
   "source": [
    "# Make predictions on the test set\n",
    "weights, bias = linear_regression(X_train, y_train)\n",
    "X_test_with_bias = np.c_[np.ones(X_test.shape[0]), X_test]\n",
    "y_pred = X_test_with_bias @ np.r_[bias, weights]\n",
    "\n",
    "# Calculate the RMSE\n",
    "rmse_linear_regression = np.sqrt(mean_squared_error(y_test, y_pred))\n",
    "print(\"RMSE:\", rmse_linear_regression)"
   ]
  },
  {
   "cell_type": "markdown",
   "id": "1b722c83-726d-48aa-96cd-3341197d8907",
   "metadata": {},
   "source": [
    "# 3. **Ridge Regression**\n",
    "<a id='Ridge-Regression'></a>"
   ]
  },
  {
   "cell_type": "markdown",
   "id": "cca2ceb1-35d4-4739-af14-899fcf8ddfe3",
   "metadata": {},
   "source": [
    "\n",
    "Ridge Regression is a variation of linear regression that introduces a regularization term. The primary purpose of this regularization term is to prevent overfitting, which can occur in standard linear regression, especially when dealing with multicollinearity or when the number of predictors exceeds the number of observations.\n",
    "\n",
    "### Mathematical Formulation\n",
    "\n",
    "In Ridge Regression, the cost function is altered by adding a penalty equivalent to the square of the magnitude of the coefficients. This penalty term shrinks the coefficients towards zero, which helps in reducing model complexity and multicollinearity. The cost function in Ridge Regression is:\n",
    "\n",
    "$$ J(\\beta) = \\sum_{i=1}^{n} (y_i - X_i \\beta)^2 + \\alpha \\sum_{j=1}^{p} \\beta_j^2 $$\n",
    "\n",
    "Here:\n",
    "- $ J(\\beta) $ is the cost function to be minimized.\n",
    "- $ y_i $ is the observed value.\n",
    "- $ X_i $ is the feature vector.\n",
    "- $ \\beta $ represents the coefficient vector.\n",
    "- $ \\alpha $ is the regularization parameter, a tuning parameter that decides the strength of the regularization. A larger value of $ \\alpha $ means more regularization and thus smaller coefficient estimates.\n",
    "- $ \\sum_{j=1}^{p} \\beta_j^2 $ is the L2-norm penalty term (sum of squares of coefficients).\n",
    "\n",
    "### Solution for Coefficients\n",
    "\n",
    "The coefficients in Ridge Regression are estimated through the formula:\n",
    "\n",
    "$$ \\beta_{\\text{ridge}} = (X^T X + \\alpha I)^{-1} X^T y $$\n",
    "\n",
    "Where:\n",
    "- $ X $ is the matrix of input features.\n",
    "- $ y $ is the vector of the target variable.\n",
    "- $ I $ is the identity matrix.\n",
    "- $ \\alpha I $ adds the regularization penalty to the normal equation.\n",
    "\n",
    "The addition of $ \\alpha I $ ensures that the matrix $ X^T X + \\alpha I $ is invertible, which is a significant advantage of Ridge Regression, particularly in situations where $ X^T X $ is not invertible due to multicollinearity.\n",
    "\n",
    "### Interpretation\n",
    "\n",
    "Ridge Regression does not eliminate coefficients (as LASSO does); instead, it reduces their impact, leading to a model that is less sensitive to the training data and potentially more robust to new, unseen data. The choice of $ \\alpha $ is critical and is typically determined through cross-validation.\n"
   ]
  },
  {
   "cell_type": "code",
   "execution_count": 10,
   "id": "c97b5d3e-8b1e-4de5-83af-54e5edfe8847",
   "metadata": {
    "tags": []
   },
   "outputs": [],
   "source": [
    "def ridge_regression(X, y, alpha):\n",
    "    \n",
    "    # Add a column of ones for the bias term\n",
    "    X_with_bias = np.c_[np.ones(X.shape[0]), X]\n",
    "\n",
    "    # Calculate coefficients\n",
    "    identity_matrix = np.identity(X_with_bias.shape[1])\n",
    "    coefficients = np.linalg.inv(X_with_bias.T @ X_with_bias + alpha * identity_matrix) @ X_with_bias.T @ y\n",
    "\n",
    "    # Extract weights and bias\n",
    "    bias = coefficients[0]\n",
    "    weights = coefficients[1:]\n",
    "\n",
    "    return weights, bias"
   ]
  },
  {
   "cell_type": "code",
   "execution_count": 11,
   "id": "2e65db90-0cc4-4128-add0-b1106441ddc6",
   "metadata": {},
   "outputs": [
    {
     "name": "stdout",
     "output_type": "stream",
     "text": [
      "RMSE for alpha 0.01: 0.7831209035246504\n",
      "RMSE for alpha 1: 0.781811344932006\n",
      "RMSE for alpha 10: 0.8085248333572969\n",
      "RMSE for alpha 100: 1.832326096307548\n"
     ]
    }
   ],
   "source": [
    "# Define alpha values\n",
    "alpha_values = [0.01, 1, 10, 100]\n",
    "\n",
    "# Store the RMSE scores\n",
    "rmse_ridge = []\n",
    "\n",
    "for alpha in alpha_values:\n",
    "    \n",
    "    # Train the model\n",
    "    weights, bias = ridge_regression(X_train, y_train, alpha)\n",
    "\n",
    "    # Make predictions on the test set\n",
    "    X_test_with_bias = np.c_[np.ones(X_test.shape[0]), X_test]\n",
    "    y_pred = X_test_with_bias @ np.hstack([bias, weights])\n",
    "\n",
    "    # Calculate the RMSE\n",
    "    rmse = np.sqrt(mean_squared_error(y_test, y_pred))\n",
    "    rmse_ridge.append(rmse)\n",
    "    print(f\"RMSE for alpha {alpha}: {rmse}\")"
   ]
  },
  {
   "cell_type": "markdown",
   "id": "8e685582-4c4f-4f68-96a4-cd9a6cb757f0",
   "metadata": {
    "tags": []
   },
   "source": [
    "# 4. **LASSO Regression**\n",
    "<a id='LASSO-Regression'></a>"
   ]
  },
  {
   "cell_type": "markdown",
   "id": "c63aa7ea-e82b-432d-a6d0-6067aabd34bc",
   "metadata": {},
   "source": [
    "LASSO (Least Absolute Shrinkage and Selection Operator) Regression is a type of linear regression that includes a regularization component. The key feature of LASSO regression is that it can shrink the coefficients of less important features to exactly zero, thus performing feature selection.\n",
    "\n",
    "### Mathematical Formulation\n",
    "\n",
    "In LASSO Regression, the cost function includes a penalty term that is the absolute value of the coefficients, which encourages sparsity (coefficients being zero). The cost function is defined as:\n",
    "\n",
    "$$ J(\\beta) = \\sum_{i=1}^{n} (y_i - X_i \\beta)^2 + \\alpha \\sum_{j=1}^{p} |\\beta_j| $$\n",
    "\n",
    "Where:\n",
    "- $ J(\\beta) $ is the cost function to be minimized.\n",
    "- $ y_i $ is the observed value.\n",
    "- $ X_i $ is the feature vector.\n",
    "- $ \\beta $ represents the coefficient vector.\n",
    "- $ \\alpha $ is the regularization parameter, controlling the amount of shrinkage applied to the coefficients.\n",
    "- $ \\sum_{j=1}^{p} |\\beta_j| $ is the L1-norm penalty term (sum of the absolute values of the coefficients).\n",
    "\n",
    "### Solution for Coefficients\n",
    "\n",
    "Unlike Ridge Regression, there is no closed-form solution for LASSO due to the absolute value in the penalty term. The coefficients are typically estimated using numerical optimization techniques, like coordinate descent.\n",
    "\n",
    "### Interpretation\n",
    "\n",
    "LASSO Regression is particularly useful when it is believed that many features are irrelevant or redundant, as it can completely remove these features by setting their coefficients to zero. This results in a model that is simpler and often easier to interpret. The choice of the regularization parameter $ \\alpha $ is crucial in determining how many features are retained in the final model.\n",
    "\n",
    "The balance between fitting the data well and keeping the model simple is controlled by $ \\alpha $. A larger value of $ \\alpha $ results in more regularization, which means more coefficients are set to zero. The optimal value of $ \\alpha $ is usually selected through cross-validation."
   ]
  },
  {
   "cell_type": "code",
   "execution_count": 12,
   "id": "ab0bd4fe-5886-4e66-a909-e22179fe0d4a",
   "metadata": {
    "tags": []
   },
   "outputs": [],
   "source": [
    "def lasso_regression(X, y, alpha, max_iterations=1000, tol=1e-4):\n",
    "    \n",
    "    # Add a column of ones for the bias term\n",
    "    X_with_bias = np.c_[np.ones(X.shape[0]), X]\n",
    "\n",
    "    # Initialize coefficients (weights and bias) to zeros\n",
    "    coefficients = np.zeros(X_with_bias.shape[1])\n",
    "\n",
    "    # Coordinate Descent for LASSO\n",
    "    for iteration in range(max_iterations):\n",
    "        # Store the coefficient values from the previous iteration\n",
    "        old_coefficients = np.copy(coefficients)\n",
    "\n",
    "        # Iterate through each coefficient\n",
    "        for j in range(1, len(coefficients)):\n",
    "            # Compute 'rho_j', a partial residual that's used to update the j-th coefficient.\n",
    "            # This involves computing the dot product of the j-th feature with the\n",
    "            # residuals where all contributions of the j-th feature are removed.\n",
    "            rho_j = X_with_bias[:, j].T @ (y - (X_with_bias @ coefficients - coefficients[j] * X_with_bias[:, j]))\n",
    "\n",
    "            # Soft thresholding:\n",
    "            # If 'rho_j' is less than negative half alpha, increase it by half alpha and then normalize.\n",
    "            # If 'rho_j' is greater than half alpha, decrease it by half alpha and then normalize.\n",
    "            # If 'rho_j' is between negative half alpha and half alpha, set the coefficient to zero.\n",
    "            if rho_j < -alpha / 2:\n",
    "                coefficients[j] = (rho_j + alpha / 2) / (X_with_bias[:, j].T @ X_with_bias[:, j])\n",
    "            elif rho_j > alpha / 2:\n",
    "                coefficients[j] = (rho_j - alpha / 2) / (X_with_bias[:, j].T @ X_with_bias[:, j])\n",
    "            else:\n",
    "                coefficients[j] = 0\n",
    "\n",
    "        # Check for convergence:\n",
    "        # If the change in the coefficient vector (L2 norm) is less than the tolerance level,\n",
    "        # stop iterating as it as assumed convergence has been achieved.\n",
    "        if np.linalg.norm(coefficients - old_coefficients) < tol:\n",
    "            break\n",
    "\n",
    "    # After convergence or exhausting iterations, separate the bias term\n",
    "    # (the first coefficient) from the rest (weights).\n",
    "    bias = coefficients[0]\n",
    "    weights = coefficients[1:]\n",
    "\n",
    "    return weights, bias"
   ]
  },
  {
   "cell_type": "code",
   "execution_count": 13,
   "id": "d1088c52-fe15-493e-b386-6ad3d6f89bff",
   "metadata": {},
   "outputs": [
    {
     "name": "stdout",
     "output_type": "stream",
     "text": [
      "RMSE for alpha 0.01: 4.351125448960773\n",
      "RMSE for alpha 1: 4.3511391706461495\n",
      "RMSE for alpha 10: 4.3497345972189185\n",
      "RMSE for alpha 100: 4.337836846731215\n"
     ]
    }
   ],
   "source": [
    "# Define alpha values\n",
    "alpha_values = [0.01, 1, 10, 100]\n",
    "\n",
    "# Store the RMSE scores\n",
    "rmse_lasso = []\n",
    "\n",
    "for alpha in alpha_values:\n",
    "    # Train the model\n",
    "    weights, bias = lasso_regression(X_train, y_train, alpha)\n",
    "\n",
    "    # Make predictions on the test set\n",
    "    X_test_with_bias = np.c_[np.ones(X_test.shape[0]), X_test]\n",
    "    y_pred = X_test_with_bias @ np.hstack([bias, weights])\n",
    "\n",
    "    # Calculate the RMSE\n",
    "    rmse = np.sqrt(mean_squared_error(y_test, y_pred))\n",
    "    rmse_lasso.append(rmse)\n",
    "    print(f\"RMSE for alpha {alpha}: {rmse}\")"
   ]
  },
  {
   "cell_type": "markdown",
   "id": "3f71b029-fe21-431f-a2a7-7a8f7208504e",
   "metadata": {},
   "source": [
    "# 5. Model Comparisons\n",
    "<a id='Model-Comparisons'></a>"
   ]
  },
  {
   "cell_type": "code",
   "execution_count": 14,
   "id": "be7367dd-9b66-41be-8cd4-6f3e82cf55c2",
   "metadata": {},
   "outputs": [
    {
     "data": {
      "image/png": "[encoded data removed]",
      "text/plain": [
       "<Figure size 800x400 with 1 Axes>"
      ]
     },
     "metadata": {},
     "output_type": "display_data"
    }
   ],
   "source": [
    "# Model names\n",
    "models = ['Linear Regression', 'Ridge (alpha=1)', 'Lasso (alpha=100)']\n",
    "\n",
    "# Corresponding RMSE values\n",
    "rmse_values = [rmse_linear_regression, min(rmse_ridge), min(rmse_lasso)]\n",
    "\n",
    "# Set the aesthetic style of the plots\n",
    "sns.set_style(\"whitegrid\")\n",
    "\n",
    "# Creating the bar plot\n",
    "plt.figure(figsize=(8, 4))  # Smaller figure size\n",
    "barplot = sns.barplot(x=models, y=rmse_values, hue=models)\n",
    "\n",
    "# Adding annotations\n",
    "for p in barplot.patches:\n",
    "    barplot.annotate(format(p.get_height(), '.2f'), \n",
    "                     (p.get_x() + p.get_width() / 2., p.get_height()), \n",
    "                     ha = 'center', va = 'center', \n",
    "                     xytext = (0, 7.6), \n",
    "                     textcoords = 'offset points')\n",
    "\n",
    "plt.xlabel('Models')\n",
    "plt.ylabel('RMSE')\n",
    "plt.title('Comparison of RMSE values for Different Regression Models')\n",
    "plt.ylim([0, max(rmse_values) + 0.5])  # Adjust y-axis limits for better visualization\n",
    "plt.show()"
   ]
  },
  {
   "cell_type": "markdown",
   "id": "d92678b1-f6a2-4540-928a-7ff1d6ed5859",
   "metadata": {},
   "source": [
    "The bar chart displays the Root Mean Squared Error (RMSE) for three different regression models: Linear Regression, Ridge Regression (with alpha set to 1), and Lasso Regression (with alpha set to 100). The RMSE is a measure of the average magnitude of the errors between predicted values and actual values in a regression model, with a lower RMSE indicating a better fit to the data.\n",
    "\n",
    "From the chart, it is possible to interpret the following:\n",
    "\n",
    "**Linear Regression** has the highest RMSE of approximately 7.40. This suggests that the model's predictions are, on average, 7.40 units away from the actual values. Among the three models, this model has the poorest fit to the data.\n",
    "\n",
    "**Ridge Regression (alpha=1)** shows a significantly lower RMSE of approximately 0.78. This dramatic decrease in RMSE compared to the Linear Regression model suggests that adding the Ridge regularization (with alpha=1) has greatly improved the model's performance.\n",
    "\n",
    "**Lasso Regression (alpha=100)** presents an RMSE of approximately 4.34, which is higher than that of the Ridge model but still lower than the basic Linear Regression model. The Lasso model, with its alpha set to 100, has managed to reduce the prediction error compared to the basic Linear Regression but is not as effective as the Ridge model with an alpha of 1 in this particular case.\n",
    "\n",
    "In summary, the Ridge Regression model with an alpha value of 1 is the best performing model among the three in terms of RMSE, suggesting it is the most accurate in predicting the dependent variable in the present dataset. The Lasso Regression with an alpha of 100 offers a middle ground in terms of error reduction, while the basic Linear Regression model without regularization has the highest error rate. This could imply that the Ridge Regression model with alpha=1 is more adept at handling any potential overfitting or multicollinearity in the dataset compared to the other models."
   ]
  }
 ],
 "metadata": {
  "kernelspec": {
   "display_name": "Python 3 (ipykernel)",
   "language": "python",
   "name": "python3"
  },
  "language_info": {
   "codemirror_mode": {
    "name": "ipython",
    "version": 3
   },
   "file_extension": ".py",
   "mimetype": "text/x-python",
   "name": "python",
   "nbconvert_exporter": "python",
   "pygments_lexer": "ipython3",
   "version": "3.10.13"
  }
 },
 "nbformat": 4,
 "nbformat_minor": 5
}
